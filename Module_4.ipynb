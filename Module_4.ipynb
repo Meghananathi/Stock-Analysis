{
 "cells": [
  {
   "cell_type": "code",
   "execution_count": 1,
   "metadata": {},
   "outputs": [],
   "source": [
    "import numpy as np\n",
    "import pandas as pd\n",
    "import matplotlib.pyplot as plt"
   ]
  },
  {
   "cell_type": "code",
   "execution_count": 2,
   "metadata": {},
   "outputs": [],
   "source": [
    "df = pd.read_csv(\"module2.csv\")"
   ]
  },
  {
   "cell_type": "code",
   "execution_count": 3,
   "metadata": {},
   "outputs": [
    {
     "data": {
      "text/plain": [
       "Date                       object\n",
       "Unnamed: 0                  int64\n",
       "Symbol                     object\n",
       "Series                     object\n",
       "Prev Close                float64\n",
       "Open Price                float64\n",
       "High Price                float64\n",
       "Low Price                 float64\n",
       "Last Price                float64\n",
       "ClosePrice                float64\n",
       "Average Price             float64\n",
       "Total_Traded_Quantity       int64\n",
       "Turnover                  float64\n",
       "No. of Trades               int64\n",
       "Deliverable Qty             int64\n",
       "% Dly Qt to Traded Qty    float64\n",
       "Month                       int64\n",
       "Year                        int64\n",
       "VWAP                      float64\n",
       "Profit_Loss               float64\n",
       "Day_perc_change           float64\n",
       "Trend                      object\n",
       "Upperband                 float64\n",
       "Lowerband                 float64\n",
       "Middle                    float64\n",
       "dtype: object"
      ]
     },
     "execution_count": 3,
     "metadata": {},
     "output_type": "execute_result"
    }
   ],
   "source": [
    "df.dtypes"
   ]
  },
  {
   "cell_type": "code",
   "execution_count": 4,
   "metadata": {},
   "outputs": [],
   "source": [
    "df.drop(['Unnamed: 0'],axis=1,inplace=True)"
   ]
  },
  {
   "cell_type": "code",
   "execution_count": 5,
   "metadata": {},
   "outputs": [],
   "source": [
    "df.dropna(inplace =True)"
   ]
  },
  {
   "cell_type": "code",
   "execution_count": 6,
   "metadata": {},
   "outputs": [
    {
     "data": {
      "text/plain": [
       "Date                      False\n",
       "Symbol                    False\n",
       "Series                    False\n",
       "Prev Close                False\n",
       "Open Price                False\n",
       "High Price                False\n",
       "Low Price                 False\n",
       "Last Price                False\n",
       "ClosePrice                False\n",
       "Average Price             False\n",
       "Total_Traded_Quantity     False\n",
       "Turnover                  False\n",
       "No. of Trades             False\n",
       "Deliverable Qty           False\n",
       "% Dly Qt to Traded Qty    False\n",
       "Month                     False\n",
       "Year                      False\n",
       "VWAP                      False\n",
       "Profit_Loss               False\n",
       "Day_perc_change           False\n",
       "Trend                     False\n",
       "Upperband                 False\n",
       "Lowerband                 False\n",
       "Middle                    False\n",
       "dtype: bool"
      ]
     },
     "execution_count": 6,
     "metadata": {},
     "output_type": "execute_result"
    }
   ],
   "source": [
    "df.isnull().any()"
   ]
  },
  {
   "cell_type": "code",
   "execution_count": 7,
   "metadata": {},
   "outputs": [],
   "source": [
    "conditions = [(df['ClosePrice']< df['Lowerband']),\n",
    "               (df['ClosePrice']> df['Lowerband']) & (df['ClosePrice']< df['Middle']),\n",
    "            (df['ClosePrice']> df['Middle']) & (df['ClosePrice']< df['Upperband']),\n",
    "             (df['ClosePrice']< df['Upperband'])]\n",
    "choices = ['Buy',\n",
    "            'Hold Buy/Liquidate Short',\n",
    "            'Hold Short/Liquidate Buy',\n",
    "            'Short']\n",
    "df['Call'] = np.select(conditions,choices)\n",
    "df.drop(df[df.Call== '0'].index,axis=0,inplace=True)"
   ]
  },
  {
   "cell_type": "code",
   "execution_count": 8,
   "metadata": {},
   "outputs": [
    {
     "data": {
      "text/plain": [
       "array(['Hold Short/Liquidate Buy', 'Hold Buy/Liquidate Short', 'Buy'],\n",
       "      dtype=object)"
      ]
     },
     "execution_count": 8,
     "metadata": {},
     "output_type": "execute_result"
    }
   ],
   "source": [
    "df.Call.unique()"
   ]
  },
  {
   "cell_type": "code",
   "execution_count": 9,
   "metadata": {},
   "outputs": [
    {
     "data": {
      "text/plain": [
       "Date                      260\n",
       "Symbol                    260\n",
       "Series                    260\n",
       "Prev Close                260\n",
       "Open Price                260\n",
       "High Price                260\n",
       "Low Price                 260\n",
       "Last Price                260\n",
       "ClosePrice                260\n",
       "Average Price             260\n",
       "Total_Traded_Quantity     260\n",
       "Turnover                  260\n",
       "No. of Trades             260\n",
       "Deliverable Qty           260\n",
       "% Dly Qt to Traded Qty    260\n",
       "Month                     260\n",
       "Year                      260\n",
       "VWAP                      260\n",
       "Profit_Loss               260\n",
       "Day_perc_change           260\n",
       "Trend                     260\n",
       "Upperband                 260\n",
       "Lowerband                 260\n",
       "Middle                    260\n",
       "Call                      260\n",
       "dtype: int64"
      ]
     },
     "execution_count": 9,
     "metadata": {},
     "output_type": "execute_result"
    }
   ],
   "source": [
    "df[df['Call'].values == 'Hold Short/Liquidate Buy'].count()"
   ]
  },
  {
   "cell_type": "markdown",
   "metadata": {},
   "source": [
    "## Training the Model"
   ]
  },
  {
   "cell_type": "code",
   "execution_count": 10,
   "metadata": {},
   "outputs": [],
   "source": [
    "x = df[['ClosePrice','Upperband','Lowerband','Middle']].values\n",
    "y = df['Call'].values"
   ]
  },
  {
   "cell_type": "code",
   "execution_count": 11,
   "metadata": {},
   "outputs": [],
   "source": [
    "from sklearn.model_selection import train_test_split\n",
    "\n",
    "train_x,test_x,train_y,test_y = train_test_split(x,y,random_state=56,stratify = y)"
   ]
  },
  {
   "cell_type": "markdown",
   "metadata": {},
   "source": [
    "## Normalization"
   ]
  },
  {
   "cell_type": "code",
   "execution_count": 12,
   "metadata": {},
   "outputs": [],
   "source": [
    "from sklearn.preprocessing import MinMaxScaler\n",
    "\n",
    "scaler = MinMaxScaler()\n",
    "train_x_scaled = scaler.fit_transform(train_x)\n",
    "test_x_scaled = scaler.transform(test_x)"
   ]
  },
  {
   "cell_type": "markdown",
   "metadata": {},
   "source": [
    "## Logistic Regression"
   ]
  },
  {
   "cell_type": "code",
   "execution_count": 13,
   "metadata": {},
   "outputs": [
    {
     "name": "stderr",
     "output_type": "stream",
     "text": [
      "C:\\Users\\Hello\\Anaconda3\\lib\\site-packages\\sklearn\\linear_model\\logistic.py:432: FutureWarning: Default solver will be changed to 'lbfgs' in 0.22. Specify a solver to silence this warning.\n",
      "  FutureWarning)\n",
      "C:\\Users\\Hello\\Anaconda3\\lib\\site-packages\\sklearn\\linear_model\\logistic.py:469: FutureWarning: Default multi_class will be changed to 'auto' in 0.22. Specify the multi_class option to silence this warning.\n",
      "  \"this warning.\", FutureWarning)\n"
     ]
    },
    {
     "data": {
      "text/plain": [
       "LogisticRegression(C=1.0, class_weight=None, dual=False, fit_intercept=True,\n",
       "                   intercept_scaling=1, l1_ratio=None, max_iter=100,\n",
       "                   multi_class='warn', n_jobs=None, penalty='l2',\n",
       "                   random_state=None, solver='warn', tol=0.0001, verbose=0,\n",
       "                   warm_start=False)"
      ]
     },
     "execution_count": 13,
     "metadata": {},
     "output_type": "execute_result"
    }
   ],
   "source": [
    "from sklearn.metrics import f1_score\n",
    "from sklearn.linear_model import LogisticRegression as LR\n",
    "\n",
    "\n",
    "model1 = LR()\n",
    "model1.fit(train_x,train_y)"
   ]
  },
  {
   "cell_type": "markdown",
   "metadata": {},
   "source": [
    "### Prediction"
   ]
  },
  {
   "cell_type": "code",
   "execution_count": 14,
   "metadata": {},
   "outputs": [
    {
     "name": "stdout",
     "output_type": "stream",
     "text": [
      "                          precision    recall  f1-score   support\n",
      "\n",
      "                     Buy       1.00      0.75      0.86         4\n",
      "Hold Buy/Liquidate Short       0.98      1.00      0.99        45\n",
      "Hold Short/Liquidate Buy       1.00      1.00      1.00        65\n",
      "\n",
      "                accuracy                           0.99       114\n",
      "               macro avg       0.99      0.92      0.95       114\n",
      "            weighted avg       0.99      0.99      0.99       114\n",
      "\n"
     ]
    }
   ],
   "source": [
    "from sklearn.metrics import confusion_matrix\n",
    "from sklearn.metrics import classification_report\n",
    "\n",
    "predict = model1.predict(test_x)\n",
    "cm = confusion_matrix(test_y,predict)\n",
    "print(classification_report(test_y, predict))"
   ]
  },
  {
   "cell_type": "markdown",
   "metadata": {},
   "source": [
    "## KNN Classifier"
   ]
  },
  {
   "cell_type": "code",
   "execution_count": 15,
   "metadata": {},
   "outputs": [
    {
     "data": {
      "text/plain": [
       "KNeighborsClassifier(algorithm='auto', leaf_size=30, metric='minkowski',\n",
       "                     metric_params=None, n_jobs=None, n_neighbors=4, p=2,\n",
       "                     weights='uniform')"
      ]
     },
     "execution_count": 15,
     "metadata": {},
     "output_type": "execute_result"
    }
   ],
   "source": [
    "from sklearn.neighbors import KNeighborsClassifier as KNN\n",
    "\n",
    "model2 = KNN(n_neighbors = 4)\n",
    "model2.fit(train_x,train_y)"
   ]
  },
  {
   "cell_type": "code",
   "execution_count": 16,
   "metadata": {},
   "outputs": [
    {
     "name": "stdout",
     "output_type": "stream",
     "text": [
      "                          precision    recall  f1-score   support\n",
      "\n",
      "                     Buy       0.00      0.00      0.00         4\n",
      "Hold Buy/Liquidate Short       0.80      0.82      0.81        45\n",
      "Hold Short/Liquidate Buy       0.88      0.92      0.90        65\n",
      "\n",
      "                accuracy                           0.85       114\n",
      "               macro avg       0.56      0.58      0.57       114\n",
      "            weighted avg       0.82      0.85      0.84       114\n",
      "\n"
     ]
    },
    {
     "name": "stderr",
     "output_type": "stream",
     "text": [
      "C:\\Users\\Hello\\Anaconda3\\lib\\site-packages\\sklearn\\metrics\\classification.py:1437: UndefinedMetricWarning: Precision and F-score are ill-defined and being set to 0.0 in labels with no predicted samples.\n",
      "  'precision', 'predicted', average, warn_for)\n"
     ]
    }
   ],
   "source": [
    "knn_predict = model2.predict(test_x)\n",
    "knn_cm = confusion_matrix(test_y,knn_predict)\n",
    "print(classification_report(test_y,knn_predict))"
   ]
  },
  {
   "cell_type": "markdown",
   "metadata": {},
   "source": [
    "## SVM"
   ]
  },
  {
   "cell_type": "code",
   "execution_count": 17,
   "metadata": {},
   "outputs": [
    {
     "name": "stderr",
     "output_type": "stream",
     "text": [
      "C:\\Users\\Hello\\Anaconda3\\lib\\site-packages\\sklearn\\svm\\base.py:193: FutureWarning: The default value of gamma will change from 'auto' to 'scale' in version 0.22 to account better for unscaled features. Set gamma explicitly to 'auto' or 'scale' to avoid this warning.\n",
      "  \"avoid this warning.\", FutureWarning)\n"
     ]
    },
    {
     "data": {
      "text/plain": [
       "SVC(C=1.0, cache_size=200, class_weight=None, coef0=0.0,\n",
       "    decision_function_shape='ovr', degree=3, gamma='auto_deprecated',\n",
       "    kernel='rbf', max_iter=-1, probability=False, random_state=None,\n",
       "    shrinking=True, tol=0.001, verbose=False)"
      ]
     },
     "execution_count": 17,
     "metadata": {},
     "output_type": "execute_result"
    }
   ],
   "source": [
    "from sklearn.svm import SVC\n",
    "\n",
    "model3 = SVC()\n",
    "model3.fit(train_x,train_y)"
   ]
  },
  {
   "cell_type": "code",
   "execution_count": 18,
   "metadata": {},
   "outputs": [
    {
     "name": "stdout",
     "output_type": "stream",
     "text": [
      "                          precision    recall  f1-score   support\n",
      "\n",
      "                     Buy       0.00      0.00      0.00         4\n",
      "Hold Buy/Liquidate Short       0.00      0.00      0.00        45\n",
      "Hold Short/Liquidate Buy       0.57      1.00      0.73        65\n",
      "\n",
      "                accuracy                           0.57       114\n",
      "               macro avg       0.19      0.33      0.24       114\n",
      "            weighted avg       0.33      0.57      0.41       114\n",
      "\n"
     ]
    },
    {
     "name": "stderr",
     "output_type": "stream",
     "text": [
      "C:\\Users\\Hello\\Anaconda3\\lib\\site-packages\\sklearn\\metrics\\classification.py:1437: UndefinedMetricWarning: Precision and F-score are ill-defined and being set to 0.0 in labels with no predicted samples.\n",
      "  'precision', 'predicted', average, warn_for)\n"
     ]
    }
   ],
   "source": [
    "svm_predict = model3.predict(test_x)\n",
    "svm_cm = confusion_matrix(test_y,svm_predict)\n",
    "print(classification_report(test_y,svm_predict))"
   ]
  },
  {
   "cell_type": "markdown",
   "metadata": {},
   "source": [
    "## Naive Bayes Classifier"
   ]
  },
  {
   "cell_type": "code",
   "execution_count": 19,
   "metadata": {},
   "outputs": [
    {
     "data": {
      "text/plain": [
       "GaussianNB(priors=None, var_smoothing=1e-09)"
      ]
     },
     "execution_count": 19,
     "metadata": {},
     "output_type": "execute_result"
    }
   ],
   "source": [
    "from sklearn.naive_bayes import GaussianNB\n",
    "\n",
    "model4 = GaussianNB()\n",
    "model4.fit(train_x,train_y)"
   ]
  },
  {
   "cell_type": "code",
   "execution_count": 20,
   "metadata": {},
   "outputs": [
    {
     "name": "stdout",
     "output_type": "stream",
     "text": [
      "                          precision    recall  f1-score   support\n",
      "\n",
      "                     Buy       0.00      0.00      0.00         4\n",
      "Hold Buy/Liquidate Short       0.50      0.02      0.04        45\n",
      "Hold Short/Liquidate Buy       0.59      1.00      0.74        65\n",
      "\n",
      "                accuracy                           0.58       114\n",
      "               macro avg       0.36      0.34      0.26       114\n",
      "            weighted avg       0.53      0.58      0.44       114\n",
      "\n"
     ]
    }
   ],
   "source": [
    "nb_predict = model4.predict(test_x)\n",
    "nb_cm = confusion_matrix(test_y,nb_predict)\n",
    "print(classification_report(test_y,nb_predict))"
   ]
  },
  {
   "cell_type": "markdown",
   "metadata": {},
   "source": [
    "# Random Forest"
   ]
  },
  {
   "cell_type": "code",
   "execution_count": 21,
   "metadata": {},
   "outputs": [],
   "source": [
    "df1 = pd.read_csv(\"Gold1.csv\")"
   ]
  },
  {
   "cell_type": "code",
   "execution_count": 22,
   "metadata": {},
   "outputs": [],
   "source": [
    "df1['Date'] = pd.to_datetime(df1['Date'])"
   ]
  },
  {
   "cell_type": "code",
   "execution_count": 23,
   "metadata": {},
   "outputs": [],
   "source": [
    "df1['Month'] = pd.DatetimeIndex(df1['Date']).month\n",
    "df1['Year'] = pd.DatetimeIndex(df1['Date']).year\n",
    "group = df1.groupby(['Month', 'Year'])"
   ]
  },
  {
   "cell_type": "code",
   "execution_count": 24,
   "metadata": {},
   "outputs": [
    {
     "data": {
      "text/html": [
       "<div>\n",
       "<style scoped>\n",
       "    .dataframe tbody tr th:only-of-type {\n",
       "        vertical-align: middle;\n",
       "    }\n",
       "\n",
       "    .dataframe tbody tr th {\n",
       "        vertical-align: top;\n",
       "    }\n",
       "\n",
       "    .dataframe thead th {\n",
       "        text-align: right;\n",
       "    }\n",
       "</style>\n",
       "<table border=\"1\" class=\"dataframe\">\n",
       "  <thead>\n",
       "    <tr style=\"text-align: right;\">\n",
       "      <th></th>\n",
       "      <th>Date</th>\n",
       "      <th>Close</th>\n",
       "      <th>Open</th>\n",
       "      <th>High</th>\n",
       "      <th>Low</th>\n",
       "      <th>Vol.</th>\n",
       "      <th>Month</th>\n",
       "      <th>Year</th>\n",
       "    </tr>\n",
       "  </thead>\n",
       "  <tbody>\n",
       "    <tr>\n",
       "      <th>0</th>\n",
       "      <td>2017-05-04</td>\n",
       "      <td>28060</td>\n",
       "      <td>28400</td>\n",
       "      <td>28482</td>\n",
       "      <td>28025</td>\n",
       "      <td>0.08K</td>\n",
       "      <td>5</td>\n",
       "      <td>2017</td>\n",
       "    </tr>\n",
       "    <tr>\n",
       "      <th>1</th>\n",
       "      <td>2017-05-05</td>\n",
       "      <td>28184</td>\n",
       "      <td>28136</td>\n",
       "      <td>28382</td>\n",
       "      <td>28135</td>\n",
       "      <td>0.06K</td>\n",
       "      <td>5</td>\n",
       "      <td>2017</td>\n",
       "    </tr>\n",
       "    <tr>\n",
       "      <th>2</th>\n",
       "      <td>2017-05-08</td>\n",
       "      <td>28119</td>\n",
       "      <td>28145</td>\n",
       "      <td>28255</td>\n",
       "      <td>28097</td>\n",
       "      <td>7.85K</td>\n",
       "      <td>5</td>\n",
       "      <td>2017</td>\n",
       "    </tr>\n",
       "  </tbody>\n",
       "</table>\n",
       "</div>"
      ],
      "text/plain": [
       "        Date  Close   Open   High    Low   Vol.  Month  Year\n",
       "0 2017-05-04  28060  28400  28482  28025  0.08K      5  2017\n",
       "1 2017-05-05  28184  28136  28382  28135  0.06K      5  2017\n",
       "2 2017-05-08  28119  28145  28255  28097  7.85K      5  2017"
      ]
     },
     "execution_count": 24,
     "metadata": {},
     "output_type": "execute_result"
    }
   ],
   "source": [
    "df1.head(3)"
   ]
  },
  {
   "cell_type": "code",
   "execution_count": 25,
   "metadata": {},
   "outputs": [
    {
     "data": {
      "text/html": [
       "<div>\n",
       "<style scoped>\n",
       "    .dataframe tbody tr th:only-of-type {\n",
       "        vertical-align: middle;\n",
       "    }\n",
       "\n",
       "    .dataframe tbody tr th {\n",
       "        vertical-align: top;\n",
       "    }\n",
       "\n",
       "    .dataframe thead th {\n",
       "        text-align: right;\n",
       "    }\n",
       "</style>\n",
       "<table border=\"1\" class=\"dataframe\">\n",
       "  <thead>\n",
       "    <tr style=\"text-align: right;\">\n",
       "      <th></th>\n",
       "      <th>Date</th>\n",
       "      <th>Close</th>\n",
       "      <th>Open</th>\n",
       "      <th>High</th>\n",
       "      <th>Low</th>\n",
       "      <th>Vol.</th>\n",
       "      <th>Month</th>\n",
       "      <th>Year</th>\n",
       "      <th>Prec_OC</th>\n",
       "    </tr>\n",
       "  </thead>\n",
       "  <tbody>\n",
       "    <tr>\n",
       "      <th>0</th>\n",
       "      <td>2017-05-04</td>\n",
       "      <td>28060</td>\n",
       "      <td>28400</td>\n",
       "      <td>28482</td>\n",
       "      <td>28025</td>\n",
       "      <td>0.08K</td>\n",
       "      <td>5</td>\n",
       "      <td>2017</td>\n",
       "      <td>1.197183</td>\n",
       "    </tr>\n",
       "    <tr>\n",
       "      <th>1</th>\n",
       "      <td>2017-05-05</td>\n",
       "      <td>28184</td>\n",
       "      <td>28136</td>\n",
       "      <td>28382</td>\n",
       "      <td>28135</td>\n",
       "      <td>0.06K</td>\n",
       "      <td>5</td>\n",
       "      <td>2017</td>\n",
       "      <td>-0.170600</td>\n",
       "    </tr>\n",
       "    <tr>\n",
       "      <th>2</th>\n",
       "      <td>2017-05-08</td>\n",
       "      <td>28119</td>\n",
       "      <td>28145</td>\n",
       "      <td>28255</td>\n",
       "      <td>28097</td>\n",
       "      <td>7.85K</td>\n",
       "      <td>5</td>\n",
       "      <td>2017</td>\n",
       "      <td>0.092379</td>\n",
       "    </tr>\n",
       "  </tbody>\n",
       "</table>\n",
       "</div>"
      ],
      "text/plain": [
       "        Date  Close   Open   High    Low   Vol.  Month  Year   Prec_OC\n",
       "0 2017-05-04  28060  28400  28482  28025  0.08K      5  2017  1.197183\n",
       "1 2017-05-05  28184  28136  28382  28135  0.06K      5  2017 -0.170600\n",
       "2 2017-05-08  28119  28145  28255  28097  7.85K      5  2017  0.092379"
      ]
     },
     "execution_count": 25,
     "metadata": {},
     "output_type": "execute_result"
    }
   ],
   "source": [
    "df1['Prec_OC'] = (df1['Open'] - df1['Close'])/df1['Open'] * 100\n",
    "df1.head(3)"
   ]
  },
  {
   "cell_type": "code",
   "execution_count": 26,
   "metadata": {},
   "outputs": [
    {
     "data": {
      "text/html": [
       "<div>\n",
       "<style scoped>\n",
       "    .dataframe tbody tr th:only-of-type {\n",
       "        vertical-align: middle;\n",
       "    }\n",
       "\n",
       "    .dataframe tbody tr th {\n",
       "        vertical-align: top;\n",
       "    }\n",
       "\n",
       "    .dataframe thead th {\n",
       "        text-align: right;\n",
       "    }\n",
       "</style>\n",
       "<table border=\"1\" class=\"dataframe\">\n",
       "  <thead>\n",
       "    <tr style=\"text-align: right;\">\n",
       "      <th></th>\n",
       "      <th>Date</th>\n",
       "      <th>Close</th>\n",
       "      <th>Open</th>\n",
       "      <th>High</th>\n",
       "      <th>Low</th>\n",
       "      <th>Vol.</th>\n",
       "      <th>Month</th>\n",
       "      <th>Year</th>\n",
       "      <th>Prec_OC</th>\n",
       "      <th>Prec_LH</th>\n",
       "    </tr>\n",
       "  </thead>\n",
       "  <tbody>\n",
       "    <tr>\n",
       "      <th>0</th>\n",
       "      <td>2017-05-04</td>\n",
       "      <td>28060</td>\n",
       "      <td>28400</td>\n",
       "      <td>28482</td>\n",
       "      <td>28025</td>\n",
       "      <td>0.08K</td>\n",
       "      <td>5</td>\n",
       "      <td>2017</td>\n",
       "      <td>1.197183</td>\n",
       "      <td>-1.630687</td>\n",
       "    </tr>\n",
       "    <tr>\n",
       "      <th>1</th>\n",
       "      <td>2017-05-05</td>\n",
       "      <td>28184</td>\n",
       "      <td>28136</td>\n",
       "      <td>28382</td>\n",
       "      <td>28135</td>\n",
       "      <td>0.06K</td>\n",
       "      <td>5</td>\n",
       "      <td>2017</td>\n",
       "      <td>-0.170600</td>\n",
       "      <td>-0.877910</td>\n",
       "    </tr>\n",
       "    <tr>\n",
       "      <th>2</th>\n",
       "      <td>2017-05-08</td>\n",
       "      <td>28119</td>\n",
       "      <td>28145</td>\n",
       "      <td>28255</td>\n",
       "      <td>28097</td>\n",
       "      <td>7.85K</td>\n",
       "      <td>5</td>\n",
       "      <td>2017</td>\n",
       "      <td>0.092379</td>\n",
       "      <td>-0.562338</td>\n",
       "    </tr>\n",
       "  </tbody>\n",
       "</table>\n",
       "</div>"
      ],
      "text/plain": [
       "        Date  Close   Open   High    Low   Vol.  Month  Year   Prec_OC  \\\n",
       "0 2017-05-04  28060  28400  28482  28025  0.08K      5  2017  1.197183   \n",
       "1 2017-05-05  28184  28136  28382  28135  0.06K      5  2017 -0.170600   \n",
       "2 2017-05-08  28119  28145  28255  28097  7.85K      5  2017  0.092379   \n",
       "\n",
       "    Prec_LH  \n",
       "0 -1.630687  \n",
       "1 -0.877910  \n",
       "2 -0.562338  "
      ]
     },
     "execution_count": 26,
     "metadata": {},
     "output_type": "execute_result"
    }
   ],
   "source": [
    "df1['Prec_LH'] = (df1['Low'] - df1['High'])/df1['Low'] * 100\n",
    "df1.head(3)"
   ]
  },
  {
   "cell_type": "code",
   "execution_count": 27,
   "metadata": {},
   "outputs": [
    {
     "data": {
      "text/html": [
       "<div>\n",
       "<style scoped>\n",
       "    .dataframe tbody tr th:only-of-type {\n",
       "        vertical-align: middle;\n",
       "    }\n",
       "\n",
       "    .dataframe tbody tr th {\n",
       "        vertical-align: top;\n",
       "    }\n",
       "\n",
       "    .dataframe thead th {\n",
       "        text-align: right;\n",
       "    }\n",
       "</style>\n",
       "<table border=\"1\" class=\"dataframe\">\n",
       "  <thead>\n",
       "    <tr style=\"text-align: right;\">\n",
       "      <th></th>\n",
       "      <th>Date</th>\n",
       "      <th>Close</th>\n",
       "      <th>Open</th>\n",
       "      <th>High</th>\n",
       "      <th>Low</th>\n",
       "      <th>Vol.</th>\n",
       "      <th>Month</th>\n",
       "      <th>Year</th>\n",
       "      <th>Prec_OC</th>\n",
       "      <th>Prec_LH</th>\n",
       "      <th>roll_mean</th>\n",
       "      <th>roll_std</th>\n",
       "    </tr>\n",
       "  </thead>\n",
       "  <tbody>\n",
       "    <tr>\n",
       "      <th>0</th>\n",
       "      <td>2017-05-04</td>\n",
       "      <td>28060</td>\n",
       "      <td>28400</td>\n",
       "      <td>28482</td>\n",
       "      <td>28025</td>\n",
       "      <td>0.08K</td>\n",
       "      <td>5</td>\n",
       "      <td>2017</td>\n",
       "      <td>1.197183</td>\n",
       "      <td>-1.630687</td>\n",
       "      <td>NaN</td>\n",
       "      <td>NaN</td>\n",
       "    </tr>\n",
       "    <tr>\n",
       "      <th>1</th>\n",
       "      <td>2017-05-05</td>\n",
       "      <td>28184</td>\n",
       "      <td>28136</td>\n",
       "      <td>28382</td>\n",
       "      <td>28135</td>\n",
       "      <td>0.06K</td>\n",
       "      <td>5</td>\n",
       "      <td>2017</td>\n",
       "      <td>-0.170600</td>\n",
       "      <td>-0.877910</td>\n",
       "      <td>NaN</td>\n",
       "      <td>NaN</td>\n",
       "    </tr>\n",
       "    <tr>\n",
       "      <th>2</th>\n",
       "      <td>2017-05-08</td>\n",
       "      <td>28119</td>\n",
       "      <td>28145</td>\n",
       "      <td>28255</td>\n",
       "      <td>28097</td>\n",
       "      <td>7.85K</td>\n",
       "      <td>5</td>\n",
       "      <td>2017</td>\n",
       "      <td>0.092379</td>\n",
       "      <td>-0.562338</td>\n",
       "      <td>NaN</td>\n",
       "      <td>NaN</td>\n",
       "    </tr>\n",
       "  </tbody>\n",
       "</table>\n",
       "</div>"
      ],
      "text/plain": [
       "        Date  Close   Open   High    Low   Vol.  Month  Year   Prec_OC  \\\n",
       "0 2017-05-04  28060  28400  28482  28025  0.08K      5  2017  1.197183   \n",
       "1 2017-05-05  28184  28136  28382  28135  0.06K      5  2017 -0.170600   \n",
       "2 2017-05-08  28119  28145  28255  28097  7.85K      5  2017  0.092379   \n",
       "\n",
       "    Prec_LH  roll_mean  roll_std  \n",
       "0 -1.630687        NaN       NaN  \n",
       "1 -0.877910        NaN       NaN  \n",
       "2 -0.562338        NaN       NaN  "
      ]
     },
     "execution_count": 27,
     "metadata": {},
     "output_type": "execute_result"
    }
   ],
   "source": [
    "perc_change = df1['Close'].pct_change()\n",
    "df1['roll_mean'] = perc_change.rolling(5).mean()\n",
    "df1['roll_std'] = perc_change.rolling(5).std()\n",
    "df1.head(3)"
   ]
  },
  {
   "cell_type": "code",
   "execution_count": 28,
   "metadata": {},
   "outputs": [],
   "source": [
    "df1.dropna(inplace = True)"
   ]
  },
  {
   "cell_type": "code",
   "execution_count": 29,
   "metadata": {},
   "outputs": [],
   "source": [
    "df1['Action'] = (df1['Close']>df1['Close'].shift(1))"
   ]
  },
  {
   "cell_type": "code",
   "execution_count": 30,
   "metadata": {},
   "outputs": [
    {
     "data": {
      "text/html": [
       "<div>\n",
       "<style scoped>\n",
       "    .dataframe tbody tr th:only-of-type {\n",
       "        vertical-align: middle;\n",
       "    }\n",
       "\n",
       "    .dataframe tbody tr th {\n",
       "        vertical-align: top;\n",
       "    }\n",
       "\n",
       "    .dataframe thead th {\n",
       "        text-align: right;\n",
       "    }\n",
       "</style>\n",
       "<table border=\"1\" class=\"dataframe\">\n",
       "  <thead>\n",
       "    <tr style=\"text-align: right;\">\n",
       "      <th></th>\n",
       "      <th>Date</th>\n",
       "      <th>Close</th>\n",
       "      <th>Open</th>\n",
       "      <th>High</th>\n",
       "      <th>Low</th>\n",
       "      <th>Vol.</th>\n",
       "      <th>Month</th>\n",
       "      <th>Year</th>\n",
       "      <th>Prec_OC</th>\n",
       "      <th>Prec_LH</th>\n",
       "      <th>roll_mean</th>\n",
       "      <th>roll_std</th>\n",
       "      <th>Action</th>\n",
       "    </tr>\n",
       "  </thead>\n",
       "  <tbody>\n",
       "    <tr>\n",
       "      <th>5</th>\n",
       "      <td>2017-05-11</td>\n",
       "      <td>28022</td>\n",
       "      <td>27995</td>\n",
       "      <td>28100</td>\n",
       "      <td>27945</td>\n",
       "      <td>9.72K</td>\n",
       "      <td>5</td>\n",
       "      <td>2017</td>\n",
       "      <td>-0.096446</td>\n",
       "      <td>-0.554661</td>\n",
       "      <td>-0.000266</td>\n",
       "      <td>0.003526</td>\n",
       "      <td>False</td>\n",
       "    </tr>\n",
       "    <tr>\n",
       "      <th>6</th>\n",
       "      <td>2017-05-12</td>\n",
       "      <td>28019</td>\n",
       "      <td>28088</td>\n",
       "      <td>28195</td>\n",
       "      <td>27985</td>\n",
       "      <td>9.48K</td>\n",
       "      <td>5</td>\n",
       "      <td>2017</td>\n",
       "      <td>0.245657</td>\n",
       "      <td>-0.750402</td>\n",
       "      <td>-0.001171</td>\n",
       "      <td>0.002434</td>\n",
       "      <td>False</td>\n",
       "    </tr>\n",
       "    <tr>\n",
       "      <th>7</th>\n",
       "      <td>2017-05-15</td>\n",
       "      <td>28008</td>\n",
       "      <td>28049</td>\n",
       "      <td>28157</td>\n",
       "      <td>27996</td>\n",
       "      <td>8.76K</td>\n",
       "      <td>5</td>\n",
       "      <td>2017</td>\n",
       "      <td>0.146173</td>\n",
       "      <td>-0.575082</td>\n",
       "      <td>-0.000789</td>\n",
       "      <td>0.002361</td>\n",
       "      <td>False</td>\n",
       "    </tr>\n",
       "    <tr>\n",
       "      <th>8</th>\n",
       "      <td>2017-05-16</td>\n",
       "      <td>28109</td>\n",
       "      <td>28025</td>\n",
       "      <td>28159</td>\n",
       "      <td>28025</td>\n",
       "      <td>7.73K</td>\n",
       "      <td>5</td>\n",
       "      <td>2017</td>\n",
       "      <td>-0.299732</td>\n",
       "      <td>-0.478145</td>\n",
       "      <td>0.000914</td>\n",
       "      <td>0.001592</td>\n",
       "      <td>True</td>\n",
       "    </tr>\n",
       "    <tr>\n",
       "      <th>9</th>\n",
       "      <td>2017-05-17</td>\n",
       "      <td>28614</td>\n",
       "      <td>28170</td>\n",
       "      <td>28638</td>\n",
       "      <td>28170</td>\n",
       "      <td>15.92K</td>\n",
       "      <td>5</td>\n",
       "      <td>2017</td>\n",
       "      <td>-1.576145</td>\n",
       "      <td>-1.661342</td>\n",
       "      <td>0.004322</td>\n",
       "      <td>0.007792</td>\n",
       "      <td>True</td>\n",
       "    </tr>\n",
       "  </tbody>\n",
       "</table>\n",
       "</div>"
      ],
      "text/plain": [
       "        Date  Close   Open   High    Low    Vol.  Month  Year   Prec_OC  \\\n",
       "5 2017-05-11  28022  27995  28100  27945   9.72K      5  2017 -0.096446   \n",
       "6 2017-05-12  28019  28088  28195  27985   9.48K      5  2017  0.245657   \n",
       "7 2017-05-15  28008  28049  28157  27996   8.76K      5  2017  0.146173   \n",
       "8 2017-05-16  28109  28025  28159  28025   7.73K      5  2017 -0.299732   \n",
       "9 2017-05-17  28614  28170  28638  28170  15.92K      5  2017 -1.576145   \n",
       "\n",
       "    Prec_LH  roll_mean  roll_std  Action  \n",
       "5 -0.554661  -0.000266  0.003526   False  \n",
       "6 -0.750402  -0.001171  0.002434   False  \n",
       "7 -0.575082  -0.000789  0.002361   False  \n",
       "8 -0.478145   0.000914  0.001592    True  \n",
       "9 -1.661342   0.004322  0.007792    True  "
      ]
     },
     "execution_count": 30,
     "metadata": {},
     "output_type": "execute_result"
    }
   ],
   "source": [
    "df1.head()"
   ]
  },
  {
   "cell_type": "code",
   "execution_count": 31,
   "metadata": {},
   "outputs": [
    {
     "data": {
      "text/html": [
       "<div>\n",
       "<style scoped>\n",
       "    .dataframe tbody tr th:only-of-type {\n",
       "        vertical-align: middle;\n",
       "    }\n",
       "\n",
       "    .dataframe tbody tr th {\n",
       "        vertical-align: top;\n",
       "    }\n",
       "\n",
       "    .dataframe thead th {\n",
       "        text-align: right;\n",
       "    }\n",
       "</style>\n",
       "<table border=\"1\" class=\"dataframe\">\n",
       "  <thead>\n",
       "    <tr style=\"text-align: right;\">\n",
       "      <th></th>\n",
       "      <th>Date</th>\n",
       "      <th>Close</th>\n",
       "      <th>Open</th>\n",
       "      <th>High</th>\n",
       "      <th>Low</th>\n",
       "      <th>Vol.</th>\n",
       "      <th>Month</th>\n",
       "      <th>Year</th>\n",
       "      <th>Prec_OC</th>\n",
       "      <th>Prec_LH</th>\n",
       "      <th>roll_mean</th>\n",
       "      <th>roll_std</th>\n",
       "      <th>Action</th>\n",
       "    </tr>\n",
       "  </thead>\n",
       "  <tbody>\n",
       "    <tr>\n",
       "      <th>5</th>\n",
       "      <td>2017-05-11</td>\n",
       "      <td>28022</td>\n",
       "      <td>27995</td>\n",
       "      <td>28100</td>\n",
       "      <td>27945</td>\n",
       "      <td>9.72K</td>\n",
       "      <td>5</td>\n",
       "      <td>2017</td>\n",
       "      <td>-0.096446</td>\n",
       "      <td>-0.554661</td>\n",
       "      <td>-0.000266</td>\n",
       "      <td>0.003526</td>\n",
       "      <td>-1</td>\n",
       "    </tr>\n",
       "    <tr>\n",
       "      <th>6</th>\n",
       "      <td>2017-05-12</td>\n",
       "      <td>28019</td>\n",
       "      <td>28088</td>\n",
       "      <td>28195</td>\n",
       "      <td>27985</td>\n",
       "      <td>9.48K</td>\n",
       "      <td>5</td>\n",
       "      <td>2017</td>\n",
       "      <td>0.245657</td>\n",
       "      <td>-0.750402</td>\n",
       "      <td>-0.001171</td>\n",
       "      <td>0.002434</td>\n",
       "      <td>-1</td>\n",
       "    </tr>\n",
       "    <tr>\n",
       "      <th>7</th>\n",
       "      <td>2017-05-15</td>\n",
       "      <td>28008</td>\n",
       "      <td>28049</td>\n",
       "      <td>28157</td>\n",
       "      <td>27996</td>\n",
       "      <td>8.76K</td>\n",
       "      <td>5</td>\n",
       "      <td>2017</td>\n",
       "      <td>0.146173</td>\n",
       "      <td>-0.575082</td>\n",
       "      <td>-0.000789</td>\n",
       "      <td>0.002361</td>\n",
       "      <td>-1</td>\n",
       "    </tr>\n",
       "    <tr>\n",
       "      <th>8</th>\n",
       "      <td>2017-05-16</td>\n",
       "      <td>28109</td>\n",
       "      <td>28025</td>\n",
       "      <td>28159</td>\n",
       "      <td>28025</td>\n",
       "      <td>7.73K</td>\n",
       "      <td>5</td>\n",
       "      <td>2017</td>\n",
       "      <td>-0.299732</td>\n",
       "      <td>-0.478145</td>\n",
       "      <td>0.000914</td>\n",
       "      <td>0.001592</td>\n",
       "      <td>1</td>\n",
       "    </tr>\n",
       "    <tr>\n",
       "      <th>9</th>\n",
       "      <td>2017-05-17</td>\n",
       "      <td>28614</td>\n",
       "      <td>28170</td>\n",
       "      <td>28638</td>\n",
       "      <td>28170</td>\n",
       "      <td>15.92K</td>\n",
       "      <td>5</td>\n",
       "      <td>2017</td>\n",
       "      <td>-1.576145</td>\n",
       "      <td>-1.661342</td>\n",
       "      <td>0.004322</td>\n",
       "      <td>0.007792</td>\n",
       "      <td>1</td>\n",
       "    </tr>\n",
       "  </tbody>\n",
       "</table>\n",
       "</div>"
      ],
      "text/plain": [
       "        Date  Close   Open   High    Low    Vol.  Month  Year   Prec_OC  \\\n",
       "5 2017-05-11  28022  27995  28100  27945   9.72K      5  2017 -0.096446   \n",
       "6 2017-05-12  28019  28088  28195  27985   9.48K      5  2017  0.245657   \n",
       "7 2017-05-15  28008  28049  28157  27996   8.76K      5  2017  0.146173   \n",
       "8 2017-05-16  28109  28025  28159  28025   7.73K      5  2017 -0.299732   \n",
       "9 2017-05-17  28614  28170  28638  28170  15.92K      5  2017 -1.576145   \n",
       "\n",
       "    Prec_LH  roll_mean  roll_std Action  \n",
       "5 -0.554661  -0.000266  0.003526     -1  \n",
       "6 -0.750402  -0.001171  0.002434     -1  \n",
       "7 -0.575082  -0.000789  0.002361     -1  \n",
       "8 -0.478145   0.000914  0.001592      1  \n",
       "9 -1.661342   0.004322  0.007792      1  "
      ]
     },
     "execution_count": 31,
     "metadata": {},
     "output_type": "execute_result"
    }
   ],
   "source": [
    "conditions = [ df1['Action']==True,\n",
    "               df1['Action'] == False]\n",
    "choices = [ '1','-1']\n",
    "\n",
    "df1['Action'] = np.select(conditions,choices)\n",
    "df1.head()"
   ]
  },
  {
   "cell_type": "code",
   "execution_count": 32,
   "metadata": {},
   "outputs": [],
   "source": [
    "df1.dropna(inplace=True)"
   ]
  },
  {
   "cell_type": "code",
   "execution_count": 33,
   "metadata": {},
   "outputs": [
    {
     "data": {
      "text/plain": [
       "RandomForestClassifier(bootstrap=True, class_weight=None, criterion='gini',\n",
       "                       max_depth=12, max_features='auto', max_leaf_nodes=None,\n",
       "                       min_impurity_decrease=0.0, min_impurity_split=None,\n",
       "                       min_samples_leaf=1, min_samples_split=2,\n",
       "                       min_weight_fraction_leaf=0.0, n_estimators=100,\n",
       "                       n_jobs=None, oob_score=False, random_state=None,\n",
       "                       verbose=0, warm_start=False)"
      ]
     },
     "execution_count": 33,
     "metadata": {},
     "output_type": "execute_result"
    }
   ],
   "source": [
    "random_x = df1[['Prec_OC','Prec_LH','roll_mean','roll_std']].values\n",
    "random_y =df1 ['Action'].values\n",
    "\n",
    "x_train,x_test,y_train,y_test = train_test_split(random_x,random_y,random_state=56)\n",
    "\n",
    "from sklearn.ensemble import RandomForestClassifier as RF\n",
    "\n",
    "model_random = RF(n_estimators=100,max_depth=12)\n",
    "model_random.fit(x_train,y_train)\n",
    "\n"
   ]
  },
  {
   "cell_type": "code",
   "execution_count": 34,
   "metadata": {},
   "outputs": [
    {
     "name": "stdout",
     "output_type": "stream",
     "text": [
      "              precision    recall  f1-score   support\n",
      "\n",
      "          -1       0.84      0.82      0.83        65\n",
      "           1       0.81      0.84      0.83        62\n",
      "\n",
      "    accuracy                           0.83       127\n",
      "   macro avg       0.83      0.83      0.83       127\n",
      "weighted avg       0.83      0.83      0.83       127\n",
      "\n"
     ]
    }
   ],
   "source": [
    "predict_random = model_random.predict(x_test)\n",
    "cm_random = confusion_matrix(y_test,predict_random)\n",
    "print(classification_report(y_test,predict_random))"
   ]
  },
  {
   "cell_type": "code",
   "execution_count": 35,
   "metadata": {},
   "outputs": [
    {
     "data": {
      "text/plain": [
       "Text(0, 0.5, 'Strategy returns(%)')"
      ]
     },
     "execution_count": 35,
     "metadata": {},
     "output_type": "execute_result"
    },
    {
     "data": {
      "image/png": "[encoded data removed]",
      "text/plain": [
       "<Figure size 432x288 with 1 Axes>"
      ]
     },
     "metadata": {
      "needs_background": "light"
     },
     "output_type": "display_data"
    }
   ],
   "source": [
    "y = df1['Prec_OC'].cumsum()\n",
    "x = df1.index\n",
    "\n",
    "plt.plot(x,y)\n",
    "plt.ylabel(\"Strategy returns(%)\")"
   ]
  },
  {
   "cell_type": "code",
   "execution_count": null,
   "metadata": {},
   "outputs": [],
   "source": []
  }
 ],
 "metadata": {
  "kernelspec": {
   "display_name": "Python 3",
   "language": "python",
   "name": "python3"
  },
  "language_info": {
   "codemirror_mode": {
    "name": "ipython",
    "version": 3
   },
   "file_extension": ".py",
   "mimetype": "text/x-python",
   "name": "python",
   "nbconvert_exporter": "python",
   "pygments_lexer": "ipython3",
   "version": "3.7.3"
  }
 },
 "nbformat": 4,
 "nbformat_minor": 2
}
